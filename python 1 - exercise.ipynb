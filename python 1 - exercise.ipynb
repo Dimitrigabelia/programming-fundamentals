{
 "cells": [
  {
   "cell_type": "markdown",
   "metadata": {},
   "source": [
    "# W4 - Python data types assignment"
   ]
  },
  {
   "cell_type": "markdown",
   "metadata": {},
   "source": [
    "# 1. Print word `python` in reverse order"
   ]
  },
  {
   "cell_type": "code",
   "execution_count": null,
   "metadata": {},
   "outputs": [],
   "source": [
    "'python'[::-1]"
   ]
  },
  {
   "cell_type": "raw",
   "metadata": {},
   "source": [
    "# 2. Define variables `apples` and `oranges` and using `format` methos print following string:\n",
    ">I have **7** apples and **5** oranges, therefore I have **12** fruits.`"
   ]
  },
  {
   "cell_type": "code",
   "execution_count": null,
   "metadata": {},
   "outputs": [],
   "source": [
    ">>> apples = 7\n",
    ">>> oranges = 5\n",
    ">>> print (\"I have {0} apples and {1} oranges, therefore I have {2} fruits.\".format(apples, oranges, apples+oranges))"
   ]
  },
  {
   "cell_type": "markdown",
   "metadata": {},
   "source": [
    "# 3. Convert list of characters (`['a', 'b', 'c', 'd']`) to string (`'abc'`)"
   ]
  },
  {
   "cell_type": "code",
   "execution_count": null,
   "metadata": {},
   "outputs": [],
   "source": [
    "\"\".join(['a','b','c'])"
   ]
  },
  {
   "cell_type": "markdown",
   "metadata": {},
   "source": [
    "# 4. Get difference betweet two lists (e.g. `[1, 2, 3, 4, 8, 12]` and `[1, 4, 8, 2]`)"
   ]
  },
  {
   "cell_type": "code",
   "execution_count": null,
   "metadata": {},
   "outputs": [],
   "source": [
    "temp1 = ['1','2','3','4','8','12']\n",
    "temp2 = ['1','4','8','2']\n",
    "list(set(temp1) - set(temp2))\n"
   ]
  },
  {
   "cell_type": "markdown",
   "metadata": {},
   "source": [
    "# 5. Add an item to a tuple\n",
    "```python\n",
    "tuple_numbers = (4, 6, 2, 8, 3, 1) \n",
    "```"
   ]
  },
  {
   "cell_type": "code",
   "execution_count": null,
   "metadata": {},
   "outputs": [],
   "source": [
    "tuple_numbers = tuple_numbers + (9,)"
   ]
  },
  {
   "cell_type": "markdown",
   "metadata": {},
   "source": [
    "# 6. Convert a tuple to a string\n",
    "```python\n",
    "input_tuple = ('p', 'y', 't', 'h', 'o', 'n')\n",
    "output_string = 'python'\n",
    "```"
   ]
  },
  {
   "cell_type": "code",
   "execution_count": null,
   "metadata": {},
   "outputs": [],
   "source": [
    "''.join(what_i_want_to_do)"
   ]
  },
  {
   "cell_type": "markdown",
   "metadata": {},
   "source": [
    "# 7. Combine two dictionaries into one\n",
    "\n",
    "```python\n",
    "names1 = {'Jack': 25, 'John': 26, 'Emily': 23}\n",
    "names2 = {'Carol': 28, 'Walter': 22}\n",
    "```"
   ]
  },
  {
   "cell_type": "markdown",
   "metadata": {},
   "source": [
    "names2.update(names1)\n",
    "print (names2)"
   ]
  },
  {
   "cell_type": "code",
   "execution_count": null,
   "metadata": {},
   "outputs": [],
   "source": [
    "names2.update(names1)\n",
    "print (names2)"
   ]
  },
  {
   "cell_type": "markdown",
   "metadata": {},
   "source": [
    "# 8. Sum all the items in a dictionary\n",
    "```python\n",
    "ice_cream_price = {'Chocolate': 200, 'Strawberry': 188, 'Vanilla': 175, 'Caramel': 180}\n",
    "```"
   ]
  },
  {
   "cell_type": "code",
   "execution_count": null,
   "metadata": {},
   "outputs": [],
   "source": [
    "sum(ice_cream_price.values())"
   ]
  },
  {
   "cell_type": "markdown",
   "metadata": {},
   "source": [
    "# 9. Remove item(s) from set. Can you gess which item will be removed?\n",
    "```python\n",
    "set_numbers = {1, 2, 3, 4, 5}\n",
    "set_letters = {'p', 'y', 't', 'h', 'o', 'n'}\n",
    "```"
   ]
  },
  {
   "cell_type": "code",
   "execution_count": null,
   "metadata": {},
   "outputs": [],
   "source": []
  },
  {
   "cell_type": "markdown",
   "metadata": {},
   "source": [
    "# 10. split list into 3 different variables \n",
    "```python\n",
    "color = [\n",
    "    (\"Black\", \"#000000\", \"rgb(0, 0, 0)\"), \n",
    "    (\"Red\", \"#FF0000\", \"rgb(255, 0, 0)\"), \n",
    "    (\"Yellow\", \"#FFFF00\", \"rgb(255, 255, 0)\")\n",
    "]\n",
    "```"
   ]
  },
  {
   "cell_type": "code",
   "execution_count": null,
   "metadata": {},
   "outputs": [],
   "source": [
    "var1, var2, var3 = color\n",
    "print(var1)\n",
    "print(var2)\n",
    "print(var3)"
   ]
  },
  {
   "cell_type": "markdown",
   "metadata": {},
   "source": [
    "# BONUS: test whether every element of first set is in second set ans vice versa using using relational operators\n",
    "```python\n",
    "set_a = set(['Chocolate', 'Strawberry', 'Vanilla', 'Caramel'])\n",
    "set_b = set(['Vanilla', 'Caramel','Chocolate', 'Strawberry'])\n",
    "set_c = set(['Chocolate'])\n",
    "```"
   ]
  },
  {
   "cell_type": "code",
   "execution_count": null,
   "metadata": {},
   "outputs": [],
   "source": [
    "diff = set_b.difference(set_a)\n",
    "result = len(diff)==0\n",
    "\n"
   ]
  }
 ],
 "metadata": {
  "kernelspec": {
   "display_name": "Python 3",
   "language": "python",
   "name": "python3"
  },
  "language_info": {
   "codemirror_mode": {
    "name": "ipython",
    "version": 3
   },
   "file_extension": ".py",
   "mimetype": "text/x-python",
   "name": "python",
   "nbconvert_exporter": "python",
   "pygments_lexer": "ipython3",
   "version": "3.6.2"
  }
 },
 "nbformat": 4,
 "nbformat_minor": 2
}
